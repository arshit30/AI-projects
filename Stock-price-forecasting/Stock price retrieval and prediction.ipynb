{
 "cells": [
  {
   "cell_type": "code",
   "execution_count": 1,
   "metadata": {},
   "outputs": [
    {
     "name": "stderr",
     "output_type": "stream",
     "text": [
      "Using TensorFlow backend.\n"
     ]
    }
   ],
   "source": [
    "import pandas as pd\n",
    "import numpy as np\n",
    "import matplotlib.pyplot as plt\n",
    "from googlesearch import search\n",
    "from yahoo_finance_api2 import share\n",
    "from yahoo_finance_api2.exceptions import YahooFinanceError\n",
    "import sys\n",
    "from keras.preprocessing.sequence import TimeseriesGenerator\n",
    "from sklearn.preprocessing import MinMaxScaler\n",
    "import xgboost as xgb\n",
    "import math"
   ]
  },
  {
   "cell_type": "code",
   "execution_count": 2,
   "metadata": {},
   "outputs": [
    {
     "name": "stdout",
     "output_type": "stream",
     "text": [
      "Enter the name of the company/stock :tesla\n"
     ]
    }
   ],
   "source": [
    "stock_name=input('Enter the name of the company/stock :')"
   ]
  },
  {
   "cell_type": "code",
   "execution_count": 3,
   "metadata": {},
   "outputs": [
    {
     "data": {
      "text/plain": [
       "'tesla stock yahoo'"
      ]
     },
     "execution_count": 3,
     "metadata": {},
     "output_type": "execute_result"
    }
   ],
   "source": [
    "searches=stock_name+' stock yahoo'\n",
    "searches"
   ]
  },
  {
   "cell_type": "code",
   "execution_count": 4,
   "metadata": {},
   "outputs": [
    {
     "name": "stdout",
     "output_type": "stream",
     "text": [
      "https://finance.yahoo.com/quote/TSLA/\n",
      "https://in.finance.yahoo.com/q?s=TSLA\n",
      "https://www.cnbc.com/quotes/?symbol=TSLA\n",
      "https://www.youtube.com/watch?v=gSsfkzNlMY4\n",
      "https://www.youtube.com/watch?v=5ACe0s0wcUk\n",
      "https://wallmine.com/nasdaq/tsla\n",
      "https://finbox.com/NASDAQGS:TSLA\n",
      "https://www.nasdaq.com/market-activity/stocks/tsla\n",
      "https://in.tradingview.com/symbols/NASDAQ-TSLA/\n",
      "https://www.pinterest.com/pin/195906652528229349/\n"
     ]
    }
   ],
   "source": [
    "results = []\n",
    "for i in search(searches,     # The query you want to run\n",
    "                tld = 'com',  # The top level domain\n",
    "                lang = 'en',  # The language\n",
    "                num = 10,     # Number of results per page\n",
    "                start = 0,    # First result to retrieve\n",
    "                stop = 10,    # Last result to retrieve\n",
    "                pause = 2.0,  # Lapse between HTTP requests\n",
    "               ):\n",
    "    results.append(i)\n",
    "    print(i)"
   ]
  },
  {
   "cell_type": "code",
   "execution_count": 5,
   "metadata": {},
   "outputs": [
    {
     "data": {
      "text/plain": [
       "'TSLA'"
      ]
     },
     "execution_count": 5,
     "metadata": {},
     "output_type": "execute_result"
    }
   ],
   "source": [
    "string=results[0]\n",
    "words=string.split('/')\n",
    "name=words[-2]\n",
    "name"
   ]
  },
  {
   "cell_type": "code",
   "execution_count": 6,
   "metadata": {},
   "outputs": [],
   "source": [
    "my_share = share.Share(name)\n",
    "database = None\n",
    "\n",
    "try:\n",
    "    database = my_share.get_historical( share.PERIOD_TYPE_YEAR,3\n",
    "                                          ,share.FREQUENCY_TYPE_DAY,1)\n",
    "except YahooFinanceError as e:\n",
    "    print(e.message)\n",
    "    sys.exit(1)"
   ]
  },
  {
   "cell_type": "code",
   "execution_count": 7,
   "metadata": {},
   "outputs": [],
   "source": [
    "data=pd.DataFrame(database)"
   ]
  },
  {
   "cell_type": "code",
   "execution_count": 8,
   "metadata": {},
   "outputs": [
    {
     "data": {
      "text/html": [
       "<div>\n",
       "<style scoped>\n",
       "    .dataframe tbody tr th:only-of-type {\n",
       "        vertical-align: middle;\n",
       "    }\n",
       "\n",
       "    .dataframe tbody tr th {\n",
       "        vertical-align: top;\n",
       "    }\n",
       "\n",
       "    .dataframe thead th {\n",
       "        text-align: right;\n",
       "    }\n",
       "</style>\n",
       "<table border=\"1\" class=\"dataframe\">\n",
       "  <thead>\n",
       "    <tr style=\"text-align: right;\">\n",
       "      <th></th>\n",
       "      <th>timestamp</th>\n",
       "      <th>open</th>\n",
       "      <th>high</th>\n",
       "      <th>low</th>\n",
       "      <th>close</th>\n",
       "      <th>volume</th>\n",
       "    </tr>\n",
       "  </thead>\n",
       "  <tbody>\n",
       "    <tr>\n",
       "      <th>0</th>\n",
       "      <td>1506691800000</td>\n",
       "      <td>68.372002</td>\n",
       "      <td>68.935997</td>\n",
       "      <td>67.720001</td>\n",
       "      <td>68.220001</td>\n",
       "      <td>25535500</td>\n",
       "    </tr>\n",
       "    <tr>\n",
       "      <th>1</th>\n",
       "      <td>1506951000000</td>\n",
       "      <td>68.503998</td>\n",
       "      <td>68.739998</td>\n",
       "      <td>67.101997</td>\n",
       "      <td>68.306000</td>\n",
       "      <td>26434000</td>\n",
       "    </tr>\n",
       "    <tr>\n",
       "      <th>2</th>\n",
       "      <td>1507037400000</td>\n",
       "      <td>67.180000</td>\n",
       "      <td>69.709999</td>\n",
       "      <td>66.255997</td>\n",
       "      <td>69.627998</td>\n",
       "      <td>50768000</td>\n",
       "    </tr>\n",
       "    <tr>\n",
       "      <th>3</th>\n",
       "      <td>1507123800000</td>\n",
       "      <td>70.250000</td>\n",
       "      <td>71.723999</td>\n",
       "      <td>69.919998</td>\n",
       "      <td>71.001999</td>\n",
       "      <td>40817500</td>\n",
       "    </tr>\n",
       "    <tr>\n",
       "      <th>4</th>\n",
       "      <td>1507210200000</td>\n",
       "      <td>71.199997</td>\n",
       "      <td>71.487999</td>\n",
       "      <td>70.269997</td>\n",
       "      <td>71.066002</td>\n",
       "      <td>20858500</td>\n",
       "    </tr>\n",
       "  </tbody>\n",
       "</table>\n",
       "</div>"
      ],
      "text/plain": [
       "       timestamp       open       high        low      close    volume\n",
       "0  1506691800000  68.372002  68.935997  67.720001  68.220001  25535500\n",
       "1  1506951000000  68.503998  68.739998  67.101997  68.306000  26434000\n",
       "2  1507037400000  67.180000  69.709999  66.255997  69.627998  50768000\n",
       "3  1507123800000  70.250000  71.723999  69.919998  71.001999  40817500\n",
       "4  1507210200000  71.199997  71.487999  70.269997  71.066002  20858500"
      ]
     },
     "execution_count": 8,
     "metadata": {},
     "output_type": "execute_result"
    }
   ],
   "source": [
    "data.head()"
   ]
  },
  {
   "cell_type": "code",
   "execution_count": 9,
   "metadata": {},
   "outputs": [],
   "source": [
    "high=np.array(data['high'])\n",
    "low=np.array(data['low'])\n",
    "price=(high+low)/2"
   ]
  },
  {
   "cell_type": "code",
   "execution_count": 10,
   "metadata": {},
   "outputs": [
    {
     "data": {
      "image/png": "[encoded data removed]",
      "text/plain": [
       "<Figure size 1296x576 with 1 Axes>"
      ]
     },
     "metadata": {
      "needs_background": "light"
     },
     "output_type": "display_data"
    }
   ],
   "source": [
    "plt.figure(figsize=(18,8))\n",
    "plt.plot(price)\n",
    "plt.xlabel('time')\n",
    "plt.ylabel('Price')\n",
    "plt.legend(['average price'])\n",
    "plt.show()"
   ]
  },
  {
   "cell_type": "code",
   "execution_count": 11,
   "metadata": {},
   "outputs": [
    {
     "data": {
      "text/plain": [
       "677"
      ]
     },
     "execution_count": 11,
     "metadata": {},
     "output_type": "execute_result"
    }
   ],
   "source": [
    "train_perc=math.floor(data['high'].count()*0.9)\n",
    "train_perc"
   ]
  },
  {
   "cell_type": "code",
   "execution_count": 12,
   "metadata": {},
   "outputs": [],
   "source": [
    "train_data=price[0:train_perc]\n",
    "test_data=price[train_perc:]"
   ]
  },
  {
   "cell_type": "code",
   "execution_count": 13,
   "metadata": {},
   "outputs": [],
   "source": [
    "sc=MinMaxScaler(feature_range=(0,1))\n",
    "train_data=train_data.reshape(-1,1)\n",
    "test_data=test_data.reshape(-1,1)\n",
    "train_data=sc.fit_transform(train_data)\n",
    "test_data=sc.fit_transform(test_data)"
   ]
  },
  {
   "cell_type": "code",
   "execution_count": 14,
   "metadata": {},
   "outputs": [],
   "source": [
    "def create_dataset(data,look_back,shuffle=False):\n",
    "    gen=TimeseriesGenerator(data,data,length=look_back,shuffle=False)\n",
    "    X=[]\n",
    "    Y=[]\n",
    "    for i in range(len(gen)):\n",
    "        a,b=gen[i]\n",
    "        for j in range(a.shape[0]):\n",
    "            X.append(a[j])\n",
    "            Y.append(b[j])\n",
    "    \n",
    "    return np.array(X),np.array(Y)"
   ]
  },
  {
   "cell_type": "code",
   "execution_count": 15,
   "metadata": {},
   "outputs": [],
   "source": [
    "X_train,Y_train=create_dataset(train_data,look_back=10)\n",
    "X_test,Y_test=create_dataset(test_data,look_back=10)"
   ]
  },
  {
   "cell_type": "code",
   "execution_count": 16,
   "metadata": {},
   "outputs": [
    {
     "name": "stdout",
     "output_type": "stream",
     "text": [
      "(667, 10, 1) (667, 1)\n",
      "(66, 10, 1) (66, 1)\n"
     ]
    }
   ],
   "source": [
    "print(X_train.shape,Y_train.shape)\n",
    "print(X_test.shape,Y_test.shape)"
   ]
  },
  {
   "cell_type": "code",
   "execution_count": 17,
   "metadata": {},
   "outputs": [],
   "source": [
    "look_back=10       #look at last 10 days prices for prediction\n",
    "num_forecasts=10   #forecast for the next 10 days"
   ]
  },
  {
   "cell_type": "code",
   "execution_count": 18,
   "metadata": {},
   "outputs": [],
   "source": [
    "X_train=X_train.reshape(-1,look_back)\n",
    "X_test=X_test.reshape(-1,look_back)\n",
    "Y_train=Y_train.reshape(-1,1)\n",
    "Y_test=Y_test.reshape(-1,1)"
   ]
  },
  {
   "cell_type": "code",
   "execution_count": 19,
   "metadata": {},
   "outputs": [],
   "source": [
    "xgmodel = xgb.XGBRegressor(objective='reg:squarederror',learning_rate=0.05,max_depth=15,n_estimators=200,verbose=False)"
   ]
  },
  {
   "cell_type": "code",
   "execution_count": 20,
   "metadata": {},
   "outputs": [
    {
     "name": "stdout",
     "output_type": "stream",
     "text": [
      "[11:14:14] WARNING: C:\\Users\\Administrator\\workspace\\xgboost-win64_release_1.2.0\\src\\learner.cc:516: \n",
      "Parameters: { verbose } might not be used.\n",
      "\n",
      "  This may not be accurate due to some parameters are only used in language bindings but\n",
      "  passed down to XGBoost core.  Or some parameters are not used but slip through this\n",
      "  verification. Please open an issue if you find above cases.\n",
      "\n",
      "\n"
     ]
    },
    {
     "data": {
      "text/plain": [
       "XGBRegressor(base_score=0.5, booster='gbtree', colsample_bylevel=1,\n",
       "             colsample_bynode=1, colsample_bytree=1, gamma=0, gpu_id=-1,\n",
       "             importance_type='gain', interaction_constraints='',\n",
       "             learning_rate=0.05, max_delta_step=0, max_depth=15,\n",
       "             min_child_weight=1, missing=nan, monotone_constraints='()',\n",
       "             n_estimators=200, n_jobs=0, num_parallel_tree=1, random_state=0,\n",
       "             reg_alpha=0, reg_lambda=1, scale_pos_weight=1, subsample=1,\n",
       "             tree_method='exact', validate_parameters=1, verbose=False,\n",
       "             verbosity=None)"
      ]
     },
     "execution_count": 20,
     "metadata": {},
     "output_type": "execute_result"
    }
   ],
   "source": [
    "xgmodel.fit(X_train,Y_train)"
   ]
  },
  {
   "cell_type": "code",
   "execution_count": 21,
   "metadata": {},
   "outputs": [],
   "source": [
    "y_pred=xgmodel.predict(X_test)"
   ]
  },
  {
   "cell_type": "code",
   "execution_count": 22,
   "metadata": {},
   "outputs": [
    {
     "data": {
      "image/png": "[encoded data removed]",
      "text/plain": [
       "<Figure size 648x288 with 1 Axes>"
      ]
     },
     "metadata": {
      "needs_background": "light"
     },
     "output_type": "display_data"
    }
   ],
   "source": [
    "plt.figure(figsize=(9,4))\n",
    "plt.plot(Y_test,label='Actual test price',color='blue')\n",
    "plt.plot(y_pred,label='Predicted price',color='orange')\n",
    "plt.legend()\n",
    "plt.show()"
   ]
  },
  {
   "cell_type": "code",
   "execution_count": 23,
   "metadata": {},
   "outputs": [],
   "source": [
    "def future_predict(data,model,look_back,num_forecasts):\n",
    "    output=[]\n",
    "    for i in range(num_forecasts):\n",
    "        data=data[-look_back:]\n",
    "        pred=model.predict(data.reshape(1,look_back))\n",
    "        output.append(pred)\n",
    "        data=np.concatenate([data,np.array(pred).reshape(-1,1)],axis=0)\n",
    "    return output"
   ]
  },
  {
   "cell_type": "code",
   "execution_count": 24,
   "metadata": {},
   "outputs": [],
   "source": [
    "average=sc.fit_transform(price.reshape(-1,1))"
   ]
  },
  {
   "cell_type": "code",
   "execution_count": 25,
   "metadata": {},
   "outputs": [],
   "source": [
    "predictions=future_predict(average[-50:],xgmodel,look_back,num_forecasts)"
   ]
  },
  {
   "cell_type": "code",
   "execution_count": 26,
   "metadata": {},
   "outputs": [],
   "source": [
    "u=average[-100:]\n",
    "v=np.concatenate([u,np.array(predictions)])"
   ]
  },
  {
   "cell_type": "code",
   "execution_count": 27,
   "metadata": {},
   "outputs": [],
   "source": [
    "past_values=sc.inverse_transform(u)\n",
    "future_values=sc.inverse_transform(v)"
   ]
  },
  {
   "cell_type": "code",
   "execution_count": 28,
   "metadata": {},
   "outputs": [
    {
     "data": {
      "image/png": "[encoded data removed]",
      "text/plain": [
       "<Figure size 648x504 with 1 Axes>"
      ]
     },
     "metadata": {
      "needs_background": "light"
     },
     "output_type": "display_data"
    }
   ],
   "source": [
    "plt.figure(figsize=(9,7))\n",
    "plt.plot(future_values,color='orange',label='Predicted data')\n",
    "plt.plot(past_values,color='blue',label='Past data')\n",
    "plt.legend()\n",
    "plt.show()"
   ]
  }
 ],
 "metadata": {
  "kernelspec": {
   "display_name": "Python 3",
   "language": "python",
   "name": "python3"
  },
  "language_info": {
   "codemirror_mode": {
    "name": "ipython",
    "version": 3
   },
   "file_extension": ".py",
   "mimetype": "text/x-python",
   "name": "python",
   "nbconvert_exporter": "python",
   "pygments_lexer": "ipython3",
   "version": "3.7.7"
  }
 },
 "nbformat": 4,
 "nbformat_minor": 2
}
